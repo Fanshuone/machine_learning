{
 "cells": [
  {
   "cell_type": "code",
   "execution_count": 13,
   "id": "39b0c80a",
   "metadata": {},
   "outputs": [],
   "source": [
    "import pandas as pd\n",
    "df = pd.DataFrame(np.random.rand(25).reshape([5, 5]), index=['A', 'B', 'D', 'E', 'F'], columns=['c1', 'c2', 'c3', 'c4', 'c5'])"
   ]
  },
  {
   "cell_type": "code",
   "execution_count": 14,
   "id": "9ae593e0",
   "metadata": {},
   "outputs": [
    {
     "data": {
      "text/html": [
       "<div>\n",
       "<style scoped>\n",
       "    .dataframe tbody tr th:only-of-type {\n",
       "        vertical-align: middle;\n",
       "    }\n",
       "\n",
       "    .dataframe tbody tr th {\n",
       "        vertical-align: top;\n",
       "    }\n",
       "\n",
       "    .dataframe thead th {\n",
       "        text-align: right;\n",
       "    }\n",
       "</style>\n",
       "<table border=\"1\" class=\"dataframe\">\n",
       "  <thead>\n",
       "    <tr style=\"text-align: right;\">\n",
       "      <th></th>\n",
       "      <th>c1</th>\n",
       "      <th>c2</th>\n",
       "      <th>c3</th>\n",
       "      <th>c4</th>\n",
       "      <th>c5</th>\n",
       "    </tr>\n",
       "  </thead>\n",
       "  <tbody>\n",
       "    <tr>\n",
       "      <th>A</th>\n",
       "      <td>0.090872</td>\n",
       "      <td>0.492199</td>\n",
       "      <td>0.818970</td>\n",
       "      <td>0.734832</td>\n",
       "      <td>0.686209</td>\n",
       "    </tr>\n",
       "    <tr>\n",
       "      <th>B</th>\n",
       "      <td>0.807645</td>\n",
       "      <td>0.799727</td>\n",
       "      <td>0.402670</td>\n",
       "      <td>0.594758</td>\n",
       "      <td>0.431740</td>\n",
       "    </tr>\n",
       "    <tr>\n",
       "      <th>D</th>\n",
       "      <td>0.409403</td>\n",
       "      <td>0.694174</td>\n",
       "      <td>0.028975</td>\n",
       "      <td>0.351865</td>\n",
       "      <td>0.555364</td>\n",
       "    </tr>\n",
       "    <tr>\n",
       "      <th>E</th>\n",
       "      <td>0.576453</td>\n",
       "      <td>0.907626</td>\n",
       "      <td>0.786916</td>\n",
       "      <td>0.587574</td>\n",
       "      <td>0.418903</td>\n",
       "    </tr>\n",
       "    <tr>\n",
       "      <th>F</th>\n",
       "      <td>0.205398</td>\n",
       "      <td>0.405262</td>\n",
       "      <td>0.184396</td>\n",
       "      <td>0.101050</td>\n",
       "      <td>0.535791</td>\n",
       "    </tr>\n",
       "  </tbody>\n",
       "</table>\n",
       "</div>"
      ],
      "text/plain": [
       "         c1        c2        c3        c4        c5\n",
       "A  0.090872  0.492199  0.818970  0.734832  0.686209\n",
       "B  0.807645  0.799727  0.402670  0.594758  0.431740\n",
       "D  0.409403  0.694174  0.028975  0.351865  0.555364\n",
       "E  0.576453  0.907626  0.786916  0.587574  0.418903\n",
       "F  0.205398  0.405262  0.184396  0.101050  0.535791"
      ]
     },
     "execution_count": 14,
     "metadata": {},
     "output_type": "execute_result"
    }
   ],
   "source": [
    "df"
   ]
  },
  {
   "cell_type": "code",
   "execution_count": 15,
   "id": "2d2f903d",
   "metadata": {},
   "outputs": [],
   "source": [
    "a = df.drop('c1',axis=1,)"
   ]
  },
  {
   "cell_type": "code",
   "execution_count": 16,
   "id": "4c6a19ca",
   "metadata": {},
   "outputs": [
    {
     "data": {
      "text/html": [
       "<div>\n",
       "<style scoped>\n",
       "    .dataframe tbody tr th:only-of-type {\n",
       "        vertical-align: middle;\n",
       "    }\n",
       "\n",
       "    .dataframe tbody tr th {\n",
       "        vertical-align: top;\n",
       "    }\n",
       "\n",
       "    .dataframe thead th {\n",
       "        text-align: right;\n",
       "    }\n",
       "</style>\n",
       "<table border=\"1\" class=\"dataframe\">\n",
       "  <thead>\n",
       "    <tr style=\"text-align: right;\">\n",
       "      <th></th>\n",
       "      <th>c2</th>\n",
       "      <th>c3</th>\n",
       "      <th>c4</th>\n",
       "      <th>c5</th>\n",
       "    </tr>\n",
       "  </thead>\n",
       "  <tbody>\n",
       "    <tr>\n",
       "      <th>A</th>\n",
       "      <td>0.492199</td>\n",
       "      <td>0.818970</td>\n",
       "      <td>0.734832</td>\n",
       "      <td>0.686209</td>\n",
       "    </tr>\n",
       "    <tr>\n",
       "      <th>B</th>\n",
       "      <td>0.799727</td>\n",
       "      <td>0.402670</td>\n",
       "      <td>0.594758</td>\n",
       "      <td>0.431740</td>\n",
       "    </tr>\n",
       "    <tr>\n",
       "      <th>D</th>\n",
       "      <td>0.694174</td>\n",
       "      <td>0.028975</td>\n",
       "      <td>0.351865</td>\n",
       "      <td>0.555364</td>\n",
       "    </tr>\n",
       "    <tr>\n",
       "      <th>E</th>\n",
       "      <td>0.907626</td>\n",
       "      <td>0.786916</td>\n",
       "      <td>0.587574</td>\n",
       "      <td>0.418903</td>\n",
       "    </tr>\n",
       "    <tr>\n",
       "      <th>F</th>\n",
       "      <td>0.405262</td>\n",
       "      <td>0.184396</td>\n",
       "      <td>0.101050</td>\n",
       "      <td>0.535791</td>\n",
       "    </tr>\n",
       "  </tbody>\n",
       "</table>\n",
       "</div>"
      ],
      "text/plain": [
       "         c2        c3        c4        c5\n",
       "A  0.492199  0.818970  0.734832  0.686209\n",
       "B  0.799727  0.402670  0.594758  0.431740\n",
       "D  0.694174  0.028975  0.351865  0.555364\n",
       "E  0.907626  0.786916  0.587574  0.418903\n",
       "F  0.405262  0.184396  0.101050  0.535791"
      ]
     },
     "execution_count": 16,
     "metadata": {},
     "output_type": "execute_result"
    }
   ],
   "source": [
    "a"
   ]
  },
  {
   "cell_type": "code",
   "execution_count": 17,
   "id": "bf20abd1",
   "metadata": {},
   "outputs": [
    {
     "data": {
      "text/html": [
       "<div>\n",
       "<style scoped>\n",
       "    .dataframe tbody tr th:only-of-type {\n",
       "        vertical-align: middle;\n",
       "    }\n",
       "\n",
       "    .dataframe tbody tr th {\n",
       "        vertical-align: top;\n",
       "    }\n",
       "\n",
       "    .dataframe thead th {\n",
       "        text-align: right;\n",
       "    }\n",
       "</style>\n",
       "<table border=\"1\" class=\"dataframe\">\n",
       "  <thead>\n",
       "    <tr style=\"text-align: right;\">\n",
       "      <th></th>\n",
       "      <th>c1</th>\n",
       "      <th>c2</th>\n",
       "      <th>c3</th>\n",
       "      <th>c4</th>\n",
       "      <th>c5</th>\n",
       "    </tr>\n",
       "  </thead>\n",
       "  <tbody>\n",
       "    <tr>\n",
       "      <th>A</th>\n",
       "      <td>0.090872</td>\n",
       "      <td>0.492199</td>\n",
       "      <td>0.818970</td>\n",
       "      <td>0.734832</td>\n",
       "      <td>0.686209</td>\n",
       "    </tr>\n",
       "    <tr>\n",
       "      <th>B</th>\n",
       "      <td>0.807645</td>\n",
       "      <td>0.799727</td>\n",
       "      <td>0.402670</td>\n",
       "      <td>0.594758</td>\n",
       "      <td>0.431740</td>\n",
       "    </tr>\n",
       "    <tr>\n",
       "      <th>D</th>\n",
       "      <td>0.409403</td>\n",
       "      <td>0.694174</td>\n",
       "      <td>0.028975</td>\n",
       "      <td>0.351865</td>\n",
       "      <td>0.555364</td>\n",
       "    </tr>\n",
       "    <tr>\n",
       "      <th>E</th>\n",
       "      <td>0.576453</td>\n",
       "      <td>0.907626</td>\n",
       "      <td>0.786916</td>\n",
       "      <td>0.587574</td>\n",
       "      <td>0.418903</td>\n",
       "    </tr>\n",
       "    <tr>\n",
       "      <th>F</th>\n",
       "      <td>0.205398</td>\n",
       "      <td>0.405262</td>\n",
       "      <td>0.184396</td>\n",
       "      <td>0.101050</td>\n",
       "      <td>0.535791</td>\n",
       "    </tr>\n",
       "  </tbody>\n",
       "</table>\n",
       "</div>"
      ],
      "text/plain": [
       "         c1        c2        c3        c4        c5\n",
       "A  0.090872  0.492199  0.818970  0.734832  0.686209\n",
       "B  0.807645  0.799727  0.402670  0.594758  0.431740\n",
       "D  0.409403  0.694174  0.028975  0.351865  0.555364\n",
       "E  0.576453  0.907626  0.786916  0.587574  0.418903\n",
       "F  0.205398  0.405262  0.184396  0.101050  0.535791"
      ]
     },
     "execution_count": 17,
     "metadata": {},
     "output_type": "execute_result"
    }
   ],
   "source": [
    "df"
   ]
  },
  {
   "cell_type": "code",
   "execution_count": null,
   "id": "31ed329c",
   "metadata": {},
   "outputs": [],
   "source": []
  }
 ],
 "metadata": {
  "kernelspec": {
   "display_name": "Python 3 (ipykernel)",
   "language": "python",
   "name": "python3"
  },
  "language_info": {
   "codemirror_mode": {
    "name": "ipython",
    "version": 3
   },
   "file_extension": ".py",
   "mimetype": "text/x-python",
   "name": "python",
   "nbconvert_exporter": "python",
   "pygments_lexer": "ipython3",
   "version": "3.9.16"
  },
  "toc": {
   "base_numbering": 1,
   "nav_menu": {},
   "number_sections": true,
   "sideBar": true,
   "skip_h1_title": false,
   "title_cell": "Table of Contents",
   "title_sidebar": "Contents",
   "toc_cell": false,
   "toc_position": {},
   "toc_section_display": true,
   "toc_window_display": false
  },
  "varInspector": {
   "cols": {
    "lenName": 16,
    "lenType": 16,
    "lenVar": 40
   },
   "kernels_config": {
    "python": {
     "delete_cmd_postfix": "",
     "delete_cmd_prefix": "del ",
     "library": "var_list.py",
     "varRefreshCmd": "print(var_dic_list())"
    },
    "r": {
     "delete_cmd_postfix": ") ",
     "delete_cmd_prefix": "rm(",
     "library": "var_list.r",
     "varRefreshCmd": "cat(var_dic_list()) "
    }
   },
   "types_to_exclude": [
    "module",
    "function",
    "builtin_function_or_method",
    "instance",
    "_Feature"
   ],
   "window_display": false
  }
 },
 "nbformat": 4,
 "nbformat_minor": 5
}
